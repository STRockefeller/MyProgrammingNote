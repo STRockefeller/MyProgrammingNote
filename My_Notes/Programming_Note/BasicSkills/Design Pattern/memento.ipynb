{
 "cells": [
  {
   "cell_type": "markdown",
   "metadata": {},
   "source": [
    "# Memento Pattern\n",
    "\n",
    "## Intent\n",
    "\n",
    "> Memento is a behavioral design pattern that lets you save and restore the previous state of an object without revealing the details of its implementation.(refactoring.guru)\n",
    "\n",
    "## Applicability\n",
    "\n",
    "* 用於紀錄物件的過去狀態。\n",
    "* 不想透過getter, setter 甚至直接訪問field破壞物件的封裝性。\n",
    "\n",
    "## Structure\n",
    "\n",
    "Memento Pattern主要以三個類別(或介面)組成。分別是`Originator` `Memento` 以及 `Caretaker`\n",
    "\n",
    "* `Originator` 就是你想要紀錄的物件。\n",
    "* `Memento` 就是\"紀錄\"。\n",
    "* `Caretaker` 作為管理前兩者的存在。\n",
    "\n",
    "### nested classes\n",
    "\n",
    "![structure1](https://refactoring.guru/images/patterns/diagrams/memento/structure1.png)\n",
    "\n",
    "圖片來源: refactoring.guru\n",
    "\n",
    "### intermediate interface\n",
    "\n",
    "![structure2](https://refactoring.guru/images/patterns/diagrams/memento/structure2.png)\n",
    "\n",
    "圖片來源: refactoring.guru\n",
    "\n",
    "### stricter encapsulation\n",
    "\n",
    "![structure3](https://refactoring.guru/images/patterns/diagrams/memento/structure3.png)\n",
    "\n",
    "圖片來源: refactoring.guru"
   ]
  },
  {
   "cell_type": "markdown",
   "metadata": {},
   "source": [
    "## Example\n",
    "\n",
    "我這邊以我們常用的git工具作為例子。\n",
    "\n",
    "先聲明，實際上的git原理我不是很了解，這邊只是舉例，不要當真。\n",
    "\n",
    "假設我有一隻程式。我每次呼叫 git commit 它就會增加一個版本。呼叫 git reset 就會回到過去的版本。\n",
    "\n",
    "想要進行備份的是**程式**，所以將它做為`Originator`"
   ]
  },
  {
   "cell_type": "code",
   "execution_count": null,
   "metadata": {
    "dotnet_interactive": {
     "language": "csharp"
    },
    "vscode": {
     "languageId": "dotnet-interactive.csharp"
    }
   },
   "outputs": [],
   "source": [
    "// Originator\n",
    "public class Program{\n",
    "    private int version;\n",
    "    public Program(int version){\n",
    "      this.version = version;\n",
    "    }\n",
    "  }"
   ]
  },
  {
   "cell_type": "markdown",
   "metadata": {},
   "source": [
    "在這個例子中，我們只需要`version`一項資訊便可以推導出整個`Program`物件。\n",
    "所以就將`version`作為`Memento`的屬性記下。"
   ]
  },
  {
   "cell_type": "code",
   "execution_count": null,
   "metadata": {
    "dotnet_interactive": {
     "language": "csharp"
    },
    "vscode": {
     "languageId": "dotnet-interactive.csharp"
    }
   },
   "outputs": [],
   "source": [
    "// Momento\n",
    "public class GitCommit{\n",
    "    public int version{get;}\n",
    "    public GitCommit(int version){\n",
    "        this.version = version;\n",
    "    }\n",
    "}\n",
    "\n",
    "// Originator\n",
    "public class Program{\n",
    "    private int version;\n",
    "    public Program(int version){\n",
    "      this.version = version;\n",
    "    }\n",
    "    public void Describe() => Console.WriteLine($\"Program version is {version}\");\n",
    "    public void Update() => version++;\n",
    "    public GitCommit Save() => new GitCommit(version);\n",
    "  }"
   ]
  },
  {
   "cell_type": "markdown",
   "metadata": {},
   "source": [
    "註: 一般來說會比較常看到直接拿整個memento物件來做restore，但我這個案例比較單存所以就直接用現有的constructor來restore了\n",
    "\n",
    "最後是`Caretaker`的部分，在這個案例中，就是負責執行git commands"
   ]
  },
  {
   "cell_type": "code",
   "execution_count": null,
   "metadata": {
    "dotnet_interactive": {
     "language": "csharp"
    },
    "vscode": {
     "languageId": "dotnet-interactive.csharp"
    }
   },
   "outputs": [],
   "source": [
    "public class Caretaker {\n",
    "    private Program program;\n",
    "    private Stack<GitCommit> history = new();\n",
    "    public Caretaker(Program program){\n",
    "        this.program = program;\n",
    "    }\n",
    "    public void ModifyProgram(){\n",
    "        Console.WriteLine(\"modify program\");\n",
    "        program.Update();\n",
    "    }\n",
    "    public void Commit(){\n",
    "        Console.WriteLine(\"git commit\");\n",
    "        history.Push(program.Save());\n",
    "    }\n",
    "    public void Reset(){\n",
    "        Console.WriteLine(\"git reset head^ --hard\");\n",
    "        history.Pop();\n",
    "        program = new(history.Peek().version);\n",
    "    }\n",
    "    public void DescribeProgram() => program.Describe();\n",
    "}"
   ]
  },
  {
   "cell_type": "markdown",
   "metadata": {},
   "source": [
    "實際執行起來像是"
   ]
  },
  {
   "cell_type": "code",
   "execution_count": null,
   "metadata": {
    "dotnet_interactive": {
     "language": "csharp"
    },
    "vscode": {
     "languageId": "dotnet-interactive.csharp"
    }
   },
   "outputs": [],
   "source": [
    "Caretaker rockefel = new(new Program(0));\n",
    "rockefel.DescribeProgram();\n",
    "rockefel.Commit();\n",
    "\n",
    "rockefel.ModifyProgram();\n",
    "rockefel.Commit();\n",
    "rockefel.DescribeProgram();\n",
    "\n",
    "rockefel.ModifyProgram();\n",
    "rockefel.Commit();\n",
    "rockefel.DescribeProgram();\n",
    "\n",
    "rockefel.Reset();\n",
    "rockefel.DescribeProgram();\n",
    "\n",
    "rockefel.Reset();\n",
    "rockefel.DescribeProgram();"
   ]
  },
  {
   "cell_type": "markdown",
   "metadata": {
    "dotnet_interactive": {
     "language": "csharp"
    }
   },
   "source": [
    "最後附上這個範例的類別圖\n",
    "\n",
    "![cd](https://i.imgur.com/f5lw7VQ.png)\n",
    "\n",
    "## Pros and Cons\n",
    "\n",
    "Pros:\n",
    "\n",
    "* 保持Originator的封裝性\n",
    "* 符合單一職責原則\n",
    "\n",
    "Cons:\n",
    "\n",
    "* Memento占空間"
   ]
  },
  {
   "cell_type": "markdown",
   "metadata": {},
   "source": [
    "## References\n",
    "\n",
    "* [refactoring.guru](https://refactoring.guru/design-patterns/memento)"
   ]
  }
 ],
 "metadata": {
  "kernelspec": {
   "display_name": ".NET (C#)",
   "language": "C#",
   "name": ".net-csharp"
  },
  "language_info": {
   "file_extension": ".cs",
   "mimetype": "text/x-csharp",
   "name": "C#",
   "pygments_lexer": "csharp",
   "version": "9.0"
  },
  "orig_nbformat": 4,
  "vscode": {
   "interpreter": {
    "hash": "ee2a4fc337430194078794016df3b11d34954b30a6f623c8c245d43160e35e83"
   }
  }
 },
 "nbformat": 4,
 "nbformat_minor": 2
}
