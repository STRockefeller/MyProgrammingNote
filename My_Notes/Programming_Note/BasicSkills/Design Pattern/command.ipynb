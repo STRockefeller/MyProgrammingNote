{
 "cells": [
  {
   "cell_type": "markdown",
   "metadata": {},
   "source": [
    "# Command Pattern"
   ]
  },
  {
   "cell_type": "markdown",
   "metadata": {},
   "source": [
    "## Intent\n",
    "\n",
    "> Command is a behavioral design pattern that turns a request into a stand-alone object that contains all information about the request. This transformation lets you pass requests as a method arguments, delay or queue a request’s execution, and support undoable operations. (refactoring)\n",
    "\n",
    "重點\n",
    "\n",
    "* 把請求封裝成物件\n",
    "* 延遲執行\n",
    "* undoable"
   ]
  },
  {
   "cell_type": "markdown",
   "metadata": {},
   "source": [
    "## Applicability\n",
    "\n",
    "同上一段的重點。"
   ]
  },
  {
   "cell_type": "markdown",
   "metadata": {},
   "source": [
    "## Structure\n",
    "\n",
    "![img](https://refactoring.guru/images/patterns/diagrams/command/structure.png?id=1cd7833638f4c43630f4a84017d31195)\n",
    "\n",
    "(圖片來源: refactoring.guru)"
   ]
  },
  {
   "cell_type": "markdown",
   "metadata": {},
   "source": [
    "## Example"
   ]
  },
  {
   "cell_type": "markdown",
   "metadata": {},
   "source": [
    "### before using command pattern\n",
    "\n",
    "拿cb交辦任務給我作為例子，如果沒有套用command pattern的情況下。\n",
    "\n",
    "```mermaid\n",
    "sequenceDiagram\n",
    "    Actor  cb\n",
    "    Actor  rockefel\n",
    "    cb ->> rockefel : 做A功能\n",
    "    rockefel ->> rockefel : 完成A功能\n",
    "    cb ->> rockefel : 做B功能\n",
    "    rockefel ->> rockefel : 完成B功能\n",
    "```\n",
    "\n",
    "![image](https://i.imgur.com/0hdHi1J.png)"
   ]
  },
  {
   "cell_type": "code",
   "execution_count": null,
   "metadata": {
    "dotnet_interactive": {
     "language": "csharp"
    },
    "vscode": {
     "languageId": "dotnet-interactive.csharp"
    }
   },
   "outputs": [
    {
     "name": "stdout",
     "output_type": "stream",
     "text": [
      "cb: 去做A功能\r\n",
      "rockefel: 完成A功能\r\n",
      "cb: 去做B功能\r\n",
      "rockefel: 完成B功能\r\n"
     ]
    }
   ],
   "source": [
    "public class Rockefel{\n",
    "    public void DoA() => Console.WriteLine(\"rockefel: 完成A功能\");\n",
    "    public void DoB() => Console.WriteLine(\"rockefel: 完成B功能\");\n",
    "}\n",
    "\n",
    "public class CB{\n",
    "    public void Command(){\n",
    "        Rockefel rockefel = new();\n",
    "        Console.WriteLine(\"cb: 去做A功能\");\n",
    "        rockefel.DoA();\n",
    "        Console.WriteLine(\"cb: 去做B功能\");\n",
    "        rockefel.DoB();\n",
    "    }\n",
    "}\n",
    "\n",
    "new CB().Command();"
   ]
  },
  {
   "cell_type": "markdown",
   "metadata": {},
   "source": [
    "### using command pattern\n",
    "\n",
    "接著套上 command pattern 來修改上面的例子。\n",
    "\n",
    "首先，我不希望command會像是\"做A功能\"、\"做B功能\"這樣子，為了這些只能用一次的東西新增command class實在有點麻煩。\n",
    "所以先把command設計成reusable，例如:\n",
    "\n",
    "* 新增功能(功能)\n",
    "* 修改功能(功能)\n",
    "* 刪除功能(功能)\n",
    "* 重構功能(功能)\n",
    "\n",
    "重新畫一次sequence diagram\n",
    "\n",
    "```mermaid\n",
    "sequenceDiagram\n",
    "    Actor  cb as cb(Client)\n",
    "    Participant iv as Invoker\n",
    "    Actor  rockefel as rockefel(Receiver)\n",
    "    cb ->> cb : 建立新的Command\"新增功能A\"並設定Receiver為rockefel\n",
    "    cb ->> cb : 建立新的Command\"新增功能B\"並設定Receiver為rockefel\n",
    "    cb ->> iv : 把先前新增的Command加入queue。\n",
    "    cb ->> iv : 執行命令\n",
    "    iv ->> rockefel : 依序傳入Command並執行\n",
    "```\n",
    "\n",
    "![sd](https://i.imgur.com/FUj8BS0.png)\n",
    "\n",
    "先把被Invoker以及Client依賴的Receiver建立出來"
   ]
  },
  {
   "cell_type": "code",
   "execution_count": null,
   "metadata": {
    "dotnet_interactive": {
     "language": "csharp"
    },
    "vscode": {
     "languageId": "dotnet-interactive.csharp"
    }
   },
   "outputs": [],
   "source": [
    "// receiver\n",
    "public class Rockefel{\n",
    "    public void AddFeature(string feature) => Console.WriteLine($\"rockefel 新增了功能:{feature}\");\n",
    "    public void ModifyFeature(string feature) => Console.WriteLine($\"rockefel 修改了功能:{feature}\");\n",
    "    public void DeleteFeature(string feature) => Console.WriteLine($\"rockefel 刪除了功能:{feature}\");\n",
    "    public void RefactorFeature(string feature) => Console.WriteLine($\"rockefel 重構了功能:{feature}\");\n",
    "}"
   ]
  },
  {
   "cell_type": "markdown",
   "metadata": {},
   "source": [
    "接著來實作 `Command`\n",
    "\n",
    "這邊就要根據undo的做法而有所分別。\n",
    "\n",
    "這邊提供一些undo實作的思路供參考:\n",
    "\n",
    "1. 把undo寫成命令。`XXXCommand` -> `UndoXXXCommand`\n",
    "2. 在interface中強制每個命令實作`undo`方法。\n",
    "\n",
    "這個範例中我採用第二種作法。"
   ]
  },
  {
   "cell_type": "code",
   "execution_count": null,
   "metadata": {
    "dotnet_interactive": {
     "language": "csharp"
    },
    "vscode": {
     "languageId": "dotnet-interactive.csharp"
    }
   },
   "outputs": [],
   "source": [
    "public interface ICommand{\n",
    "    public void Do();\n",
    "    public void Undo();\n",
    "}\n",
    "\n",
    "public class AddFeature:ICommand{\n",
    "    Rockefel rockefel;\n",
    "    public AddFeature(Rockefel rockefel){\n",
    "        this.rockefel = rockefel;\n",
    "    }\n",
    "    public void Do(){}\n",
    "    public void Undo(){}\n",
    "}"
   ]
  },
  {
   "cell_type": "markdown",
   "metadata": {},
   "source": [
    "\n",
    "復原的方式一樣提供兩種思路:\n",
    "\n",
    "1. 在Receiver寫好復原的邏輯。\n",
    "2. 套用 Memento Pattern。\n",
    "\n",
    "這邊使用第一種做法。\n",
    "稍微修正一下先前的設計。"
   ]
  },
  {
   "cell_type": "code",
   "execution_count": null,
   "metadata": {
    "dotnet_interactive": {
     "language": "csharp"
    },
    "vscode": {
     "languageId": "dotnet-interactive.csharp"
    }
   },
   "outputs": [],
   "source": [
    "// receiver\n",
    "public class Rockefel{\n",
    "    public void AddFeature(string feature) => Console.WriteLine($\"rockefel 新增了功能:{feature}\");\n",
    "    public void UndoAddFeature(string feature) => Console.WriteLine($\"rockefel 還原了先前新增的功能:{feature}\");\n",
    "    public void ModifyFeature(string feature) => Console.WriteLine($\"rockefel 修改了功能:{feature}\");\n",
    "    public void UndoModifyFeature(string feature) => Console.WriteLine($\"rockefel 還原了先前修改的功能:{feature}\");\n",
    "    public void DeleteFeature(string feature) => Console.WriteLine($\"rockefel 刪除了功能:{feature}\");\n",
    "    public void UndoDeleteFeature(string feature) => Console.WriteLine($\"rockefel 還原了先前刪除的功能:{feature}\");\n",
    "    public void RefactorFeature(string feature) => Console.WriteLine($\"rockefel 重構了功能:{feature}\");\n",
    "    public void UndoRefactorFeature(string feature) => Console.WriteLine($\"rockefel 還原了先前重構的功能:{feature}\");\n",
    "}\n",
    "\n",
    "public class AddFeature:ICommand{\n",
    "    Rockefel rockefel;\n",
    "    string feature;\n",
    "    public AddFeature(Rockefel rockefel,string feature){\n",
    "        this.rockefel = rockefel;\n",
    "        this.feature = feature;\n",
    "    }\n",
    "    public void Do()=> rockefel.AddFeature(feature);\n",
    "    public void Undo()=> rockefel.UndoAddFeature(feature);\n",
    "}\n",
    "\n",
    "public class ModifyFeature:ICommand{\n",
    "    Rockefel rockefel;\n",
    "    string feature;\n",
    "    public ModifyFeature(Rockefel rockefel,string feature){\n",
    "        this.rockefel = rockefel;\n",
    "        this.feature = feature;\n",
    "    }\n",
    "    public void Do()=> rockefel.ModifyFeature(feature);\n",
    "    public void Undo()=> rockefel.UndoModifyFeature(feature);\n",
    "}\n",
    "\n",
    "public class DeleteFeature:ICommand{\n",
    "    Rockefel rockefel;\n",
    "    string feature;\n",
    "    public DeleteFeature(Rockefel rockefel,string feature){\n",
    "        this.rockefel = rockefel;\n",
    "        this.feature = feature;\n",
    "    }\n",
    "    public void Do()=> rockefel.DeleteFeature(feature);\n",
    "    public void Undo()=> rockefel.UndoDeleteFeature(feature);\n",
    "}\n",
    "\n",
    "public class RefactorFeature:ICommand{\n",
    "    Rockefel rockefel;\n",
    "    string feature;\n",
    "    public RefactorFeature(Rockefel rockefel,string feature){\n",
    "        this.rockefel = rockefel;\n",
    "        this.feature = feature;\n",
    "    }\n",
    "    public void Do()=> rockefel.RefactorFeature(feature);\n",
    "    public void Undo()=> rockefel.UndoRefactorFeature(feature);\n",
    "}"
   ]
  },
  {
   "cell_type": "markdown",
   "metadata": {},
   "source": [
    "接著實作`Invoker`"
   ]
  },
  {
   "cell_type": "code",
   "execution_count": null,
   "metadata": {
    "dotnet_interactive": {
     "language": "csharp"
    },
    "vscode": {
     "languageId": "dotnet-interactive.csharp"
    }
   },
   "outputs": [],
   "source": [
    "public class Invoker{\n",
    "    List<ICommand> commands = new();\n",
    "    public void SetCommand(ICommand command) => commands.Add(command);\n",
    "    public void ExecuteCommands() => commands.ForEach(c=>c.Do());\n",
    "    public void Undo(){\n",
    "        commands.Reverse();\n",
    "        commands.ForEach(c=>c.Undo());\n",
    "    }\n",
    "}"
   ]
  },
  {
   "cell_type": "markdown",
   "metadata": {},
   "source": [
    "執行"
   ]
  },
  {
   "cell_type": "code",
   "execution_count": null,
   "metadata": {
    "dotnet_interactive": {
     "language": "csharp"
    },
    "vscode": {
     "languageId": "dotnet-interactive.csharp"
    }
   },
   "outputs": [
    {
     "name": "stdout",
     "output_type": "stream",
     "text": [
      "cb 下達命令\r\n",
      "新增庫存查詢功能\r\n",
      "修改材料掛載功能\r\n",
      "刪除作業員登入功能\r\n",
      "cb: 現在開始進行上述任務\r\n",
      "rockefel 新增了功能:庫存查詢\r\n",
      "rockefel 修改了功能:材料掛載\r\n",
      "rockefel 刪除了功能:作業員登入\r\n",
      "cb: 需求有變，取消先前的命令並還原程式功能\r\n",
      "rockefel 還原了先前刪除的功能:作業員登入\r\n",
      "rockefel 還原了先前修改的功能:材料掛載\r\n",
      "rockefel 還原了先前新增的功能:庫存查詢\r\n"
     ]
    }
   ],
   "source": [
    "Invoker inv = new();\n",
    "Rockefel rockefel = new();\n",
    "Console.WriteLine(\"cb 下達命令\");\n",
    "Console.WriteLine(\"新增庫存查詢功能\");\n",
    "inv.SetCommand(new AddFeature(rockefel,\"庫存查詢\"));\n",
    "Console.WriteLine(\"修改材料掛載功能\");\n",
    "inv.SetCommand(new ModifyFeature(rockefel,\"材料掛載\"));\n",
    "Console.WriteLine(\"刪除作業員登入功能\");\n",
    "inv.SetCommand(new DeleteFeature(rockefel,\"作業員登入\"));\n",
    "\n",
    "Console.WriteLine(\"cb: 現在開始進行上述任務\");\n",
    "inv.ExecuteCommands();\n",
    "\n",
    "Console.WriteLine(\"cb: 需求有變，取消先前的命令並還原程式功能\");\n",
    "inv.Undo();"
   ]
  },
  {
   "cell_type": "markdown",
   "metadata": {},
   "source": [
    "### Class Diagram\n",
    "\n",
    "![cd](https://i.imgur.com/NNIaklK.png)"
   ]
  },
  {
   "cell_type": "markdown",
   "metadata": {},
   "source": [
    "## Pros and Cons\n",
    "\n",
    "Pros:\n",
    "\n",
    "* 上面提過的那些特點\n",
    "* 新增Command很容易\n",
    "\n",
    "Cons:\n",
    "\n",
    "* 多出很多物件\n",
    "\n",
    "## References\n",
    "\n",
    "* [refactoring-command](https://refactoring.guru/design-patterns/command)"
   ]
  }
 ],
 "metadata": {
  "kernelspec": {
   "display_name": ".NET (C#)",
   "language": "C#",
   "name": ".net-csharp"
  },
  "language_info": {
   "name": "C#"
  }
 },
 "nbformat": 4,
 "nbformat_minor": 2
}
